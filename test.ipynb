{
 "cells": [
  {
   "cell_type": "code",
   "execution_count": 3,
   "id": "f2078a4e",
   "metadata": {},
   "outputs": [],
   "source": [
    "from BinanceHttpClient import BinanceHttp, contractType, Interval, OrderSide, OrderType"
   ]
  },
  {
   "cell_type": "code",
   "execution_count": 5,
   "id": "d8ffedcf",
   "metadata": {},
   "outputs": [],
   "source": [
    "httpClient = BinanceHttp(marketType = 'USDTFutures')\n",
    "realTimeFundRate = httpClient.get_realTimeFundRate(symbol = \"BTCUSDT\")"
   ]
  },
  {
   "cell_type": "code",
   "execution_count": 6,
   "id": "b5069ef9",
   "metadata": {},
   "outputs": [
    {
     "data": {
      "text/plain": [
       "{'symbol': 'BTCUSDT',\n",
       " 'markPrice': '19209.60573267',\n",
       " 'indexPrice': '19217.17067476',\n",
       " 'estimatedSettlePrice': '19203.89988455',\n",
       " 'lastFundingRate': '0.00010000',\n",
       " 'interestRate': '0.00010000',\n",
       " 'nextFundingTime': 1666195200000,\n",
       " 'time': 1666172004009}"
      ]
     },
     "execution_count": 6,
     "metadata": {},
     "output_type": "execute_result"
    }
   ],
   "source": [
    "realTimeFundRate"
   ]
  },
  {
   "cell_type": "code",
   "execution_count": 10,
   "id": "478528d8",
   "metadata": {},
   "outputs": [],
   "source": [
    "historyFundRate = httpClient.get_historyFundRate(symbol = \"BTCUSDT\", start_time = 1666086126000, end_time = 1666172607000)"
   ]
  },
  {
   "cell_type": "code",
   "execution_count": 11,
   "id": "d31887ef",
   "metadata": {},
   "outputs": [
    {
     "data": {
      "text/plain": [
       "[{'symbol': 'BTCUSDT',\n",
       "  'fundingTime': 1666108800000,\n",
       "  'fundingRate': '0.00010000'},\n",
       " {'symbol': 'BTCUSDT',\n",
       "  'fundingTime': 1666137600007,\n",
       "  'fundingRate': '0.00007598'},\n",
       " {'symbol': 'BTCUSDT',\n",
       "  'fundingTime': 1666166400022,\n",
       "  'fundingRate': '0.00010000'}]"
      ]
     },
     "execution_count": 11,
     "metadata": {},
     "output_type": "execute_result"
    }
   ],
   "source": [
    "historyFundRate"
   ]
  },
  {
   "cell_type": "code",
   "execution_count": null,
   "id": "a7fb23cf",
   "metadata": {},
   "outputs": [],
   "source": []
  }
 ],
 "metadata": {
  "kernelspec": {
   "display_name": "Python 3 (ipykernel)",
   "language": "python",
   "name": "python3"
  },
  "language_info": {
   "codemirror_mode": {
    "name": "ipython",
    "version": 3
   },
   "file_extension": ".py",
   "mimetype": "text/x-python",
   "name": "python",
   "nbconvert_exporter": "python",
   "pygments_lexer": "ipython3",
   "version": "3.9.7"
  }
 },
 "nbformat": 4,
 "nbformat_minor": 5
}
